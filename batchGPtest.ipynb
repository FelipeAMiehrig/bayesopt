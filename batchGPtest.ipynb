{
 "cells": [
  {
   "cell_type": "code",
   "execution_count": 2,
   "metadata": {},
   "outputs": [],
   "source": [
    "import math\n",
    "import torch\n",
    "import gpytorch\n",
    "from matplotlib import pyplot as plt\n",
    "\n",
    "%matplotlib inline"
   ]
  },
  {
   "cell_type": "code",
   "execution_count": 3,
   "metadata": {},
   "outputs": [],
   "source": [
    "# Training data is 100 points in [0,1] inclusive regularly spaced\n",
    "train_x = torch.linspace(0, 1, 100).view(1, -1, 1).repeat(4, 1, 1)\n",
    "# True functions are sin(2pi x), cos(2pi x), sin(pi x), cos(pi x)\n",
    "sin_y = torch.sin(train_x[0] * (2 * math.pi)) + 0.5 * torch.rand(1, 100, 1)\n",
    "sin_y_short = torch.sin(train_x[0] * (math.pi)) + 0.5 * torch.rand(1, 100, 1)\n",
    "cos_y = torch.cos(train_x[0] * (2 * math.pi)) + 0.5 * torch.rand(1, 100, 1)\n",
    "cos_y_short = torch.cos(train_x[0] * (math.pi)) + 0.5 * torch.rand(1, 100, 1)\n",
    "train_y = torch.cat((sin_y, sin_y_short, cos_y, cos_y_short)).squeeze(-1)"
   ]
  },
  {
   "cell_type": "code",
   "execution_count": 9,
   "metadata": {},
   "outputs": [
    {
     "data": {
      "text/plain": [
       "torch.Size([4, 100, 1])"
      ]
     },
     "execution_count": 9,
     "metadata": {},
     "output_type": "execute_result"
    }
   ],
   "source": [
    "train_x.size()"
   ]
  },
  {
   "cell_type": "code",
   "execution_count": 4,
   "metadata": {},
   "outputs": [],
   "source": [
    "# We will use the simplest form of GP model, exact inference\n",
    "class ExactGPModel(gpytorch.models.ExactGP):\n",
    "    def __init__(self, train_x, train_y, likelihood):\n",
    "        super(ExactGPModel, self).__init__(train_x, train_y, likelihood)\n",
    "        self.mean_module = gpytorch.means.ConstantMean(batch_shape=torch.Size([4]))\n",
    "        self.covar_module = gpytorch.kernels.ScaleKernel(\n",
    "            gpytorch.kernels.MaternKernel(batch_shape=torch.Size([4])),\n",
    "            batch_shape=torch.Size([4])\n",
    "        )\n",
    "\n",
    "    def forward(self, x):\n",
    "        mean_x = self.mean_module(x)\n",
    "        covar_x = self.covar_module(x)\n",
    "        return gpytorch.distributions.MultivariateNormal(mean_x, covar_x)\n",
    "\n",
    "# initialize likelihood and model\n",
    "likelihood = gpytorch.likelihoods.GaussianLikelihood(batch_shape=torch.Size([4]))\n",
    "model = ExactGPModel(train_x, train_y, likelihood)"
   ]
  },
  {
   "cell_type": "code",
   "execution_count": 16,
   "metadata": {},
   "outputs": [
    {
     "name": "stdout",
     "output_type": "stream",
     "text": [
      "torch.Size([4, 100])\n",
      "Iter 1/50 - Loss: 2.791\n",
      "torch.Size([4, 100])\n",
      "Iter 2/50 - Loss: 2.633\n",
      "torch.Size([4, 100])\n",
      "Iter 3/50 - Loss: 2.477\n",
      "torch.Size([4, 100])\n",
      "Iter 4/50 - Loss: 2.325\n",
      "torch.Size([4, 100])\n",
      "Iter 5/50 - Loss: 2.174\n",
      "torch.Size([4, 100])\n",
      "Iter 6/50 - Loss: 2.025\n",
      "torch.Size([4, 100])\n",
      "Iter 7/50 - Loss: 1.875\n",
      "torch.Size([4, 100])\n",
      "Iter 8/50 - Loss: 1.724\n",
      "torch.Size([4, 100])\n",
      "Iter 9/50 - Loss: 1.571\n",
      "torch.Size([4, 100])\n",
      "Iter 10/50 - Loss: 1.417\n",
      "torch.Size([4, 100])\n",
      "Iter 11/50 - Loss: 1.261\n",
      "torch.Size([4, 100])\n",
      "Iter 12/50 - Loss: 1.106\n",
      "torch.Size([4, 100])\n",
      "Iter 13/50 - Loss: 0.950\n",
      "torch.Size([4, 100])\n",
      "Iter 14/50 - Loss: 0.796\n",
      "torch.Size([4, 100])\n",
      "Iter 15/50 - Loss: 0.644\n",
      "torch.Size([4, 100])\n",
      "Iter 16/50 - Loss: 0.493\n",
      "torch.Size([4, 100])\n",
      "Iter 17/50 - Loss: 0.346\n",
      "torch.Size([4, 100])\n",
      "Iter 18/50 - Loss: 0.201\n",
      "torch.Size([4, 100])\n",
      "Iter 19/50 - Loss: 0.060\n",
      "torch.Size([4, 100])\n",
      "Iter 20/50 - Loss: -0.079\n",
      "torch.Size([4, 100])\n",
      "Iter 21/50 - Loss: -0.214\n",
      "torch.Size([4, 100])\n",
      "Iter 22/50 - Loss: -0.346\n",
      "torch.Size([4, 100])\n",
      "Iter 23/50 - Loss: -0.472\n",
      "torch.Size([4, 100])\n",
      "Iter 24/50 - Loss: -0.592\n",
      "torch.Size([4, 100])\n",
      "Iter 25/50 - Loss: -0.706\n",
      "torch.Size([4, 100])\n",
      "Iter 26/50 - Loss: -0.812\n",
      "torch.Size([4, 100])\n",
      "Iter 27/50 - Loss: -0.911\n",
      "torch.Size([4, 100])\n",
      "Iter 28/50 - Loss: -1.001\n",
      "torch.Size([4, 100])\n",
      "Iter 29/50 - Loss: -1.083\n",
      "torch.Size([4, 100])\n",
      "Iter 30/50 - Loss: -1.156\n",
      "torch.Size([4, 100])\n",
      "Iter 31/50 - Loss: -1.220\n",
      "torch.Size([4, 100])\n",
      "Iter 32/50 - Loss: -1.274\n",
      "torch.Size([4, 100])\n",
      "Iter 33/50 - Loss: -1.318\n",
      "torch.Size([4, 100])\n",
      "Iter 34/50 - Loss: -1.352\n",
      "torch.Size([4, 100])\n",
      "Iter 35/50 - Loss: -1.377\n",
      "torch.Size([4, 100])\n",
      "Iter 36/50 - Loss: -1.393\n",
      "torch.Size([4, 100])\n",
      "Iter 37/50 - Loss: -1.401\n",
      "torch.Size([4, 100])\n",
      "Iter 38/50 - Loss: -1.403\n",
      "torch.Size([4, 100])\n",
      "Iter 39/50 - Loss: -1.400\n",
      "torch.Size([4, 100])\n",
      "Iter 40/50 - Loss: -1.392\n",
      "torch.Size([4, 100])\n",
      "Iter 41/50 - Loss: -1.383\n",
      "torch.Size([4, 100])\n",
      "Iter 42/50 - Loss: -1.372\n",
      "torch.Size([4, 100])\n",
      "Iter 43/50 - Loss: -1.361\n",
      "torch.Size([4, 100])\n",
      "Iter 44/50 - Loss: -1.352\n",
      "torch.Size([4, 100])\n",
      "Iter 45/50 - Loss: -1.344\n",
      "torch.Size([4, 100])\n",
      "Iter 46/50 - Loss: -1.339\n",
      "torch.Size([4, 100])\n",
      "Iter 47/50 - Loss: -1.338\n",
      "torch.Size([4, 100])\n",
      "Iter 48/50 - Loss: -1.339\n",
      "torch.Size([4, 100])\n",
      "Iter 49/50 - Loss: -1.342\n",
      "torch.Size([4, 100])\n",
      "Iter 50/50 - Loss: -1.348\n"
     ]
    }
   ],
   "source": [
    "# this is for running the notebook in our testing framework\n",
    "import os\n",
    "smoke_test = ('CI' in os.environ)\n",
    "training_iter = 2 if smoke_test else 50\n",
    "\n",
    "\n",
    "# Find optimal model hyperparameters\n",
    "model.train()\n",
    "likelihood.train()\n",
    "\n",
    "# Use the adam optimizer\n",
    "optimizer = torch.optim.Adam(model.parameters(), lr=0.1)  # Includes GaussianLikelihood parameters\n",
    "\n",
    "# \"Loss\" for GPs - the marginal log likelihood\n",
    "mll = gpytorch.mlls.ExactMarginalLogLikelihood(likelihood, model)\n",
    "\n",
    "for i in range(training_iter):\n",
    "    # Zero gradients from previous iteration\n",
    "    optimizer.zero_grad()\n",
    "    # Output from model\n",
    "    output = model(train_x)\n",
    "    print(train_y.size())\n",
    "    # Calc loss and backprop gradients\n",
    "    loss = -mll(output, train_y).sum()\n",
    "    loss.backward()\n",
    "    print('Iter %d/%d - Loss: %.3f' % (i + 1, training_iter, loss.item()))\n",
    "    optimizer.step()"
   ]
  },
  {
   "cell_type": "code",
   "execution_count": 15,
   "metadata": {},
   "outputs": [
    {
     "data": {
      "text/plain": [
       "torch.Size([4, 100])"
      ]
     },
     "execution_count": 15,
     "metadata": {},
     "output_type": "execute_result"
    }
   ],
   "source": [
    "train_y.s"
   ]
  },
  {
   "cell_type": "code",
   "execution_count": null,
   "metadata": {},
   "outputs": [],
   "source": []
  }
 ],
 "metadata": {
  "kernelspec": {
   "display_name": "bayesopt",
   "language": "python",
   "name": "python3"
  },
  "language_info": {
   "codemirror_mode": {
    "name": "ipython",
    "version": 3
   },
   "file_extension": ".py",
   "mimetype": "text/x-python",
   "name": "python",
   "nbconvert_exporter": "python",
   "pygments_lexer": "ipython3",
   "version": "3.11.7"
  }
 },
 "nbformat": 4,
 "nbformat_minor": 2
}
