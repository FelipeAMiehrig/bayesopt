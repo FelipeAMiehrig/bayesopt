{
  "cells": [
    {
      "cell_type": "markdown",
      "metadata": {
        "code_folding": [],
        "customInput": null,
        "hidden_ranges": [],
        "originalKey": "501041cc-0473-4971-bff9-fd6e92e1eae4",
        "showInput": false
      },
      "source": [
        "## High-Dimensional sample-efficient Bayesian Optimization with SAASBO\n",
        "\n",
        "This tutorial shows how to use the Sparse Axis-Aligned Subspace Bayesian Optimization (SAASBO) \n",
        "method for high-dimensional Bayesian optimization [1]. SAASBO places strong priors on the \n",
        "inverse lengthscales to avoid overfitting in high-dimensional spaces. Specifically, SAASBO \n",
        "uses a hierarchical sparsity prior consisting of a global shrinkage parameter \n",
        "$\\tau \\sim \\mathcal{HC}(\\beta)$ and inverse lengthscales $\\rho_d \\sim \\mathcal{HC}(\\tau)$ \n",
        "for $d=1, \\ldots, D$, where $\\mathcal{HC}$ is the half-Cauchy distribution. \n",
        "While half-Cauchy priors favor values near zero they also have heavy tails, which allows the \n",
        "inverse lengthscales of the most important parameters to escape zero. To perform inference in the \n",
        "SAAS model we use Hamiltonian Monte Carlo (HMC) as we found that to outperform MAP inference.\n",
        "\n",
        "We find that SAASBO performs well on problems with hundreds of dimensions. As we rely on HMC \n",
        "and in particular the No-U-Turn-Sampler (NUTS) for inference, the overhead of SAASBO scales \n",
        "cubically with the number of datapoints. Depending on the problem, using more than a few hundred\n",
        "evaluations may not be feasible as SAASBO is designed for problems with a limited evaluation budget.\n",
        "\n",
        "In general, we recommend using [Ax](https://ax.dev) for a simple BO setup like this one. See [here](https://ax.dev/tutorials/saasbo.html) for a SAASBO tutorial in Ax, which uses the Noisy Expected Improvement acquisition function. To customize the acquisition function used with SAASBO in Ax, see the [custom acquisition tutorial](./custom_acquisition), where adding `\\\"surrogate\\\": Surrogate(SaasFullyBayesianSingleTaskGP),` to the `model_kwargs` of `BOTORCH_MODULAR` step is sufficient to enable the SAAS model.\n",
        "\n",
        "[1]: [D. Eriksson, M. Jankowiak. High-Dimensional Bayesian Optimization with Sparse Axis-Aligned Subspaces. Proceedings of the Thirty-Seventh Conference on Uncertainty in Artificial Intelligence, 2021.](https://proceedings.mlr.press/v161/eriksson21a.html)"
      ]
    },
    {
      "cell_type": "code",
      "execution_count": 1,
      "metadata": {},
      "outputs": [
        {
          "name": "stderr",
          "output_type": "stream",
          "text": [
            "<>:4: SyntaxWarning: list indices must be integers or slices, not tuple; perhaps you missed a comma?\n",
            "<>:4: SyntaxWarning: list indices must be integers or slices, not tuple; perhaps you missed a comma?\n",
            "C:\\Users\\felip\\AppData\\Local\\Temp\\ipykernel_12356\\666289538.py:4: SyntaxWarning: list indices must be integers or slices, not tuple; perhaps you missed a comma?\n",
            "  func(torch.Tensor([1,2,3,4,5][1,2,3,4,5]))\n"
          ]
        },
        {
          "ename": "TypeError",
          "evalue": "list indices must be integers or slices, not tuple",
          "output_type": "error",
          "traceback": [
            "\u001b[1;31m---------------------------------------------------------------------------\u001b[0m",
            "\u001b[1;31mTypeError\u001b[0m                                 Traceback (most recent call last)",
            "Cell \u001b[1;32mIn[1], line 4\u001b[0m\n\u001b[0;32m      2\u001b[0m \u001b[38;5;28;01mfrom\u001b[39;00m \u001b[38;5;21;01mmgp_models\u001b[39;00m\u001b[38;5;21;01m.\u001b[39;00m\u001b[38;5;21;01mtest_functions\u001b[39;00m \u001b[38;5;28;01mimport\u001b[39;00m Gramacy2d\n\u001b[0;32m      3\u001b[0m func\u001b[38;5;241m=\u001b[39mGramacy2d(\u001b[38;5;241m0.1\u001b[39m)\n\u001b[1;32m----> 4\u001b[0m func(torch\u001b[38;5;241m.\u001b[39mTensor(\u001b[43m[\u001b[49m\u001b[38;5;241;43m1\u001b[39;49m\u001b[43m,\u001b[49m\u001b[38;5;241;43m2\u001b[39;49m\u001b[43m,\u001b[49m\u001b[38;5;241;43m3\u001b[39;49m\u001b[43m,\u001b[49m\u001b[38;5;241;43m4\u001b[39;49m\u001b[43m,\u001b[49m\u001b[38;5;241;43m5\u001b[39;49m\u001b[43m]\u001b[49m\u001b[43m[\u001b[49m\u001b[38;5;241;43m1\u001b[39;49m\u001b[43m,\u001b[49m\u001b[38;5;241;43m2\u001b[39;49m\u001b[43m,\u001b[49m\u001b[38;5;241;43m3\u001b[39;49m\u001b[43m,\u001b[49m\u001b[38;5;241;43m4\u001b[39;49m\u001b[43m,\u001b[49m\u001b[38;5;241;43m5\u001b[39;49m\u001b[43m]\u001b[49m))\n",
            "\u001b[1;31mTypeError\u001b[0m: list indices must be integers or slices, not tuple"
          ]
        }
      ],
      "source": [
        "import torch\n",
        "from mgp_models.test_functions import Gramacy2d\n",
        "func=Gramacy2d(0.1)\n",
        "func(torch.Tensor([1,2,3,4,5][1,2,3,4,5]))"
      ]
    },
    {
      "cell_type": "code",
      "execution_count": 18,
      "metadata": {},
      "outputs": [
        {
          "data": {
            "text/plain": [
              "tensor([0.8259, 0.5000, 0.5000, 0.8062, 0.5000, 0.5000, 0.5000, 0.5000, 0.5774,\n",
              "        0.8484])"
            ]
          },
          "execution_count": 18,
          "metadata": {},
          "output_type": "execute_result"
        }
      ],
      "source": [
        "var_full = torch.rand([10,1])\n",
        "eps = torch.Tensor([0.5]).repeat(var_full.size()[0]).unsqueeze(-1)\n",
        "concated = torch.cat((var_full, eps),1)\n",
        "torch.max(concated, 1)[0]"
      ]
    },
    {
      "cell_type": "code",
      "execution_count": 1,
      "metadata": {
        "code_folding": [],
        "customOutput": null,
        "executionStartTime": 1668653404823,
        "executionStopTime": 1668653404909,
        "hidden_ranges": [],
        "originalKey": "26933c08-82d6-439d-9fcb-6e358b080ab6",
        "requestMsgId": "1806f0c7-d668-4248-a390-14add9bcb451"
      },
      "outputs": [],
      "source": [
        "import os\n",
        "\n",
        "import torch\n",
        "from torch.quasirandom import SobolEngine\n",
        "\n",
        "from botorch import fit_fully_bayesian_model_nuts\n",
        "from botorch.acquisition import qExpectedImprovement\n",
        "from botorch.models.fully_bayesian import SaasFullyBayesianSingleTaskGP\n",
        "from botorch.models.transforms import Standardize\n",
        "from botorch.optim import optimize_acqf\n",
        "from botorch.test_functions import Branin\n",
        "\n",
        "from mgp_models.fully_bayesian import MGPFullyBayesianSingleTaskGP\n",
        "from mgp_models.fit_fully_bayesian import fit_fully_bayesian_mgp_model_nuts, fit_partially_bayesian_mgp_model\n",
        "\n",
        "SMOKE_TEST = os.environ.get(\"SMOKE_TEST\")"
      ]
    },
    {
      "cell_type": "code",
      "execution_count": 2,
      "metadata": {
        "code_folding": [],
        "customInput": null,
        "customOutput": null,
        "executionStartTime": 1668653405125,
        "executionStopTime": 1668653405130,
        "hidden_ranges": [],
        "originalKey": "f1e3c7f0-1afc-42e2-af59-5f5fae755ce5",
        "requestMsgId": "068ddee5-939e-4f5b-8210-2f6a490f6c4e",
        "showInput": true
      },
      "outputs": [],
      "source": [
        "tkwargs = {\n",
        "    \"device\": torch.device(\"cuda:1\" if torch.cuda.is_available() else \"cpu\"),\n",
        "    \"dtype\": torch.double,\n",
        "}"
      ]
    },
    {
      "cell_type": "markdown",
      "metadata": {
        "code_folding": [],
        "customInput": null,
        "hidden_ranges": [],
        "originalKey": "08a3d790-52a5-4821-af21-1040f1a037f0",
        "showInput": false
      },
      "source": [
        "The time to fit the SAAS model can be decreased by lowering\n",
        "`WARMUP_STEPS` and `NUM_SAMPLES`. \n",
        "\n",
        "We recommend using 512 warmup steps and 256 samples when\n",
        "possible and to not use fewer than 256 warmup steps and 128 samples. By default, we only\n",
        "keep each 16th sample which with 256 samples results in 32 hyperparameter samples.\n",
        "\n",
        "To make this tutorial run faster we use 256 warmup steps and 128 samples. "
      ]
    },
    {
      "cell_type": "code",
      "execution_count": 3,
      "metadata": {
        "customInput": null,
        "customOutput": null,
        "executionStartTime": 1668653405353,
        "executionStopTime": 1668653405445,
        "originalKey": "363224de-347c-46a7-9c84-970cbb8e825d",
        "requestMsgId": "09e1ff1f-9c11-4053-8123-08aa3397dfc1",
        "showInput": true
      },
      "outputs": [],
      "source": [
        "WARMUP_STEPS = 256 if not SMOKE_TEST else 32\n",
        "NUM_SAMPLES = 128 if not SMOKE_TEST else 16\n",
        "THINNING = 16"
      ]
    },
    {
      "cell_type": "markdown",
      "metadata": {
        "code_folding": [],
        "customInput": null,
        "hidden_ranges": [],
        "originalKey": "af8beafd-352c-421d-8797-7660ddfa39f3",
        "showInput": false
      },
      "source": [
        "## Simple model fitting\n",
        "We generate a simple function that only depends on the first parameter and show that the SAAS\n",
        "model sets all other lengthscales to large values."
      ]
    },
    {
      "cell_type": "code",
      "execution_count": 4,
      "metadata": {
        "code_folding": [],
        "customInput": null,
        "customOutput": null,
        "executionStartTime": 1668653405681,
        "executionStopTime": 1668653405771,
        "hidden_ranges": [],
        "originalKey": "f506aa6b-904c-4a7e-8a38-0443e983df06",
        "requestMsgId": "a6b6bfcd-c30c-4339-a342-02dd398a8274",
        "showInput": true
      },
      "outputs": [],
      "source": [
        "train_X = torch.rand(10, 4, **tkwargs)\n",
        "test_X = torch.rand(5, 4, **tkwargs)\n",
        "train_Y = torch.sin(train_X[:, :1])\n",
        "test_Y = torch.sin(test_X[:, :1])\n",
        "#train_Y = torch.sin(torch.sum(train_X,1)).unsqueeze(1)\n",
        "#test_Y = torch.sin(torch.sum(test_X,1)).unsqueeze(1)"
      ]
    },
    {
      "cell_type": "code",
      "execution_count": 15,
      "metadata": {},
      "outputs": [
        {
          "data": {
            "text/plain": [
              "tensor([0.2000, 0.2000, 0.2000, 0.2000, 0.2000])"
            ]
          },
          "execution_count": 15,
          "metadata": {},
          "output_type": "execute_result"
        }
      ],
      "source": [
        "torch.ones(5).div(5)"
      ]
    },
    {
      "cell_type": "markdown",
      "metadata": {
        "code_folding": [],
        "customInput": null,
        "hidden_ranges": [],
        "originalKey": "cc9314b1-f255-4f7d-9f6d-eb349b34805e",
        "showInput": false
      },
      "source": [
        "By default, we infer the unknown noise variance in the data. You can also pass in a known \n",
        "noise variance (`train_Yvar`) for each observation, which may be useful in cases where you for example\n",
        "know that the problem is noise-free and can then set the noise variance to a small value such as `1e-6`.\n",
        "\n",
        "In this case you can construct a model as follows:\n",
        "```\n",
        "gp = SaasFullyBayesianSingleTaskGP(train_X=train_X, train_Y=train_Y, train_Yvar=torch.full_like(train_Y, 1e-6))\n",
        "```"
      ]
    },
    {
      "cell_type": "code",
      "execution_count": 16,
      "metadata": {
        "code_folding": [],
        "customInput": null,
        "customOutput": null,
        "executionStartTime": 1668653406085,
        "executionStopTime": 1668653471282,
        "hidden_ranges": [],
        "originalKey": "148855fb-cf0c-4fc5-8431-06a5e61c5da5",
        "requestMsgId": "0c13f0b6-28b9-43ea-8d1b-00871e5e4f02",
        "showInput": true
      },
      "outputs": [
        {
          "name": "stdout",
          "output_type": "stream",
          "text": [
            "{'lengthscale': tensor([[1.4290e+00, 8.3597e+02, 7.7774e+01, 7.5097e+02],\n",
            "        [1.6125e+00, 1.3305e+03, 5.2628e+01, 1.3480e+02],\n",
            "        [9.6147e-01, 2.1566e+02, 3.9328e+01, 2.8817e+01],\n",
            "        [2.0452e+00, 4.4496e+01, 5.1796e+01, 7.8783e+02],\n",
            "        [1.3610e+00, 1.7195e+02, 5.2523e+02, 2.3635e+03],\n",
            "        [1.5572e+00, 4.8834e+01, 4.2198e+02, 6.4990e+01],\n",
            "        [1.4834e+00, 2.6955e+02, 9.0132e+01, 5.7074e+00],\n",
            "        [8.1229e-01, 1.3972e+02, 4.8731e+01, 1.1697e+02]], dtype=torch.float64), 'mean': tensor([-0.4509, -1.9380,  0.1584, -1.1005, -0.4993,  1.9859, -1.2687, -0.6380],\n",
            "       dtype=torch.float64), 'noise': tensor([1.4296e-04, 1.5323e-05, 2.9427e-05, 3.8650e-05, 8.6737e-05, 6.2060e-05,\n",
            "        7.0935e-05, 2.6012e-05], dtype=torch.float64), 'outputscale': tensor([ 6.5120,  8.7941,  7.0021,  8.1981,  7.9955,  9.4208, 10.1178,  9.1264],\n",
            "       dtype=torch.float64)}\n"
          ]
        }
      ],
      "source": [
        "gp = MGPFullyBayesianSingleTaskGP(\n",
        "    train_X=train_X, \n",
        "    train_Y=train_Y, \n",
        "    outcome_transform=Standardize(m=1)\n",
        ")\n",
        "fit_fully_bayesian_mgp_model_nuts(\n",
        "    gp,\n",
        "    warmup_steps=WARMUP_STEPS,\n",
        "    num_samples=NUM_SAMPLES,\n",
        "    thinning=THINNING,\n",
        "    disable_progbar=True,\n",
        ")\n",
        "with torch.no_grad():\n",
        "    posterior = gp.posterior(test_X)"
      ]
    },
    {
      "cell_type": "code",
      "execution_count": 5,
      "metadata": {},
      "outputs": [
        {
          "name": "stdout",
          "output_type": "stream",
          "text": [
            "{'mean': tensor([-1.2951, -0.3480, -0.2717, -0.2168, -0.2285,  0.8379, -0.9418, -0.2490,\n",
            "        -1.7277, -0.5269, -0.7191,  0.2929,  0.1164, -0.0687,  0.0367,  0.5124],\n",
            "       dtype=torch.float64), 'noise': tensor([8.7498e-01, 1.0312e+01, 1.1579e+00, 3.0210e+00, 3.2429e-01, 1.5399e+01,\n",
            "        8.1002e+00, 9.1831e-01, 7.4197e-02, 1.1349e+00, 6.4769e+02, 4.2385e-02,\n",
            "        1.8027e-03, 6.1353e-02, 5.5532e-01, 6.0437e+01], dtype=torch.float64), 'outputscale': tensor([7.7341, 6.8647, 7.4477, 7.7525, 5.5896, 8.5815, 6.3328, 6.5582, 6.0658,\n",
            "        6.9772, 6.3453, 9.5673, 8.6418, 8.1427, 6.7110, 6.2143],\n",
            "       dtype=torch.float64), 'lengthscale': tensor([[1.8528e+00, 5.5634e+00, 2.7467e-01, 4.5967e-02],\n",
            "        [2.1293e+02, 2.6977e+00, 4.0964e-03, 1.5348e+01],\n",
            "        [7.7731e+00, 5.4941e-02, 3.2239e-02, 6.4608e-02],\n",
            "        [1.2705e+01, 2.6976e+00, 2.8756e-02, 3.0441e-01],\n",
            "        [1.6866e+00, 2.1940e-02, 1.1951e+00, 3.0036e+00],\n",
            "        [1.4435e+01, 5.6029e+01, 3.1681e-01, 1.3026e+00],\n",
            "        [1.2432e+00, 2.1797e-02, 7.1562e-01, 1.4345e-02],\n",
            "        [1.0982e-01, 2.4815e-01, 2.1485e-03, 1.6725e-01],\n",
            "        [1.6301e-01, 7.9973e+01, 4.9287e-01, 3.0399e-01],\n",
            "        [8.0513e+00, 9.5544e-01, 7.9634e+00, 4.7650e+00],\n",
            "        [5.4501e-01, 1.0827e-03, 4.0742e-01, 1.3534e+00],\n",
            "        [1.4499e+01, 8.0604e+00, 2.9231e-02, 1.4887e-01],\n",
            "        [5.3692e+00, 5.2241e+01, 5.1743e-03, 6.7696e-02],\n",
            "        [1.0936e+00, 9.2049e-01, 1.3312e-01, 9.6176e-02],\n",
            "        [8.9109e-03, 9.9988e-01, 3.8353e-02, 5.5520e-02],\n",
            "        [4.3116e-02, 3.1037e+00, 2.0198e+01, 4.0035e-02]], dtype=torch.float64)}\n",
            "Iter 1/300 - Loss: 35.885\n",
            "Iter 2/300 - Loss: 35.648\n",
            "Iter 3/300 - Loss: 35.413\n",
            "Iter 4/300 - Loss: 35.176\n",
            "Iter 5/300 - Loss: 34.936\n",
            "Iter 6/300 - Loss: 34.689\n",
            "Iter 7/300 - Loss: 34.434\n",
            "Iter 8/300 - Loss: 34.172\n",
            "Iter 9/300 - Loss: 33.903\n",
            "Iter 10/300 - Loss: 33.631\n",
            "Iter 11/300 - Loss: 33.357\n",
            "Iter 12/300 - Loss: 33.085\n",
            "Iter 13/300 - Loss: 32.814\n",
            "Iter 14/300 - Loss: 32.545\n",
            "Iter 15/300 - Loss: 32.278\n",
            "Iter 16/300 - Loss: 32.014\n",
            "Iter 17/300 - Loss: 31.753\n",
            "Iter 18/300 - Loss: 31.495\n",
            "Iter 19/300 - Loss: 31.233\n",
            "Iter 20/300 - Loss: 30.960\n",
            "Iter 21/300 - Loss: 30.674\n",
            "Iter 22/300 - Loss: 30.380\n",
            "Iter 23/300 - Loss: 30.084\n",
            "Iter 24/300 - Loss: 29.795\n",
            "Iter 25/300 - Loss: 29.516\n",
            "Iter 26/300 - Loss: 29.248\n",
            "Iter 27/300 - Loss: 28.989\n",
            "Iter 28/300 - Loss: 28.736\n",
            "Iter 29/300 - Loss: 28.490\n",
            "Iter 30/300 - Loss: 28.242\n",
            "Iter 31/300 - Loss: 27.974\n",
            "Iter 32/300 - Loss: 27.687\n",
            "Iter 33/300 - Loss: 27.390\n",
            "Iter 34/300 - Loss: 27.094\n",
            "Iter 35/300 - Loss: 26.804\n",
            "Iter 36/300 - Loss: 26.523\n",
            "Iter 37/300 - Loss: 26.253\n",
            "Iter 38/300 - Loss: 25.990\n",
            "Iter 39/300 - Loss: 25.731\n",
            "Iter 40/300 - Loss: 25.469\n",
            "Iter 41/300 - Loss: 25.198\n",
            "Iter 42/300 - Loss: 24.915\n",
            "Iter 43/300 - Loss: 24.619\n",
            "Iter 44/300 - Loss: 24.310\n",
            "Iter 45/300 - Loss: 23.987\n",
            "Iter 46/300 - Loss: 23.652\n",
            "Iter 47/300 - Loss: 23.307\n",
            "Iter 48/300 - Loss: 22.953\n",
            "Iter 49/300 - Loss: 22.596\n",
            "Iter 50/300 - Loss: 22.237\n",
            "Iter 51/300 - Loss: 21.876\n",
            "Iter 52/300 - Loss: 21.515\n",
            "Iter 53/300 - Loss: 21.152\n",
            "Iter 54/300 - Loss: 20.791\n",
            "Iter 55/300 - Loss: 20.439\n",
            "Iter 56/300 - Loss: 20.106\n",
            "Iter 57/300 - Loss: 19.801\n",
            "Iter 58/300 - Loss: 19.524\n",
            "Iter 59/300 - Loss: 19.267\n",
            "Iter 60/300 - Loss: 19.014\n",
            "Iter 61/300 - Loss: 18.760\n",
            "Iter 62/300 - Loss: 18.508\n",
            "Iter 63/300 - Loss: 18.264\n",
            "Iter 64/300 - Loss: 18.035\n",
            "Iter 65/300 - Loss: 17.823\n",
            "Iter 66/300 - Loss: 17.623\n",
            "Iter 67/300 - Loss: 17.428\n",
            "Iter 68/300 - Loss: 17.233\n",
            "Iter 69/300 - Loss: 17.033\n",
            "Iter 70/300 - Loss: 16.829\n",
            "Iter 71/300 - Loss: 16.623\n",
            "Iter 72/300 - Loss: 16.416\n",
            "Iter 73/300 - Loss: 16.211\n",
            "Iter 74/300 - Loss: 16.010\n",
            "Iter 75/300 - Loss: 15.816\n",
            "Iter 76/300 - Loss: 15.630\n",
            "Iter 77/300 - Loss: 15.451\n",
            "Iter 78/300 - Loss: 15.278\n",
            "Iter 79/300 - Loss: 15.110\n",
            "Iter 80/300 - Loss: 14.946\n",
            "Iter 81/300 - Loss: 14.789\n",
            "Iter 82/300 - Loss: 14.637\n",
            "Iter 83/300 - Loss: 14.490\n",
            "Iter 84/300 - Loss: 14.346\n",
            "Iter 85/300 - Loss: 14.201\n",
            "Iter 86/300 - Loss: 14.056\n",
            "Iter 87/300 - Loss: 13.908\n",
            "Iter 88/300 - Loss: 13.761\n",
            "Iter 89/300 - Loss: 13.616\n",
            "Iter 90/300 - Loss: 13.477\n",
            "Iter 91/300 - Loss: 13.341\n",
            "Iter 92/300 - Loss: 13.203\n",
            "Iter 93/300 - Loss: 13.059\n",
            "Iter 94/300 - Loss: 12.910\n",
            "Iter 95/300 - Loss: 12.758\n",
            "Iter 96/300 - Loss: 12.604\n",
            "Iter 97/300 - Loss: 12.452\n",
            "Iter 98/300 - Loss: 12.300\n",
            "Iter 99/300 - Loss: 12.144\n",
            "Iter 100/300 - Loss: 11.980\n",
            "Iter 101/300 - Loss: 11.804\n",
            "Iter 102/300 - Loss: 11.620\n",
            "Iter 103/300 - Loss: 11.434\n",
            "Iter 104/300 - Loss: 11.245\n",
            "Iter 105/300 - Loss: 11.056\n",
            "Iter 106/300 - Loss: 10.864\n",
            "Iter 107/300 - Loss: 10.670\n",
            "Iter 108/300 - Loss: 10.474\n",
            "Iter 109/300 - Loss: 10.276\n",
            "Iter 110/300 - Loss: 10.080\n",
            "Iter 111/300 - Loss: 9.890\n",
            "Iter 112/300 - Loss: 9.712\n",
            "Iter 113/300 - Loss: 9.547\n",
            "Iter 114/300 - Loss: 9.391\n",
            "Iter 115/300 - Loss: 9.237\n",
            "Iter 116/300 - Loss: 9.082\n",
            "Iter 117/300 - Loss: 8.925\n",
            "Iter 118/300 - Loss: 8.768\n",
            "Iter 119/300 - Loss: 8.612\n",
            "Iter 120/300 - Loss: 8.459\n",
            "Iter 121/300 - Loss: 8.311\n",
            "Iter 122/300 - Loss: 8.166\n",
            "Iter 123/300 - Loss: 8.026\n",
            "Iter 124/300 - Loss: 7.893\n",
            "Iter 125/300 - Loss: 7.767\n",
            "Iter 126/300 - Loss: 7.641\n",
            "Iter 127/300 - Loss: 7.506\n",
            "Iter 128/300 - Loss: 7.360\n",
            "Iter 129/300 - Loss: 7.205\n",
            "Iter 130/300 - Loss: 7.044\n",
            "Iter 131/300 - Loss: 6.883\n",
            "Iter 132/300 - Loss: 6.722\n",
            "Iter 133/300 - Loss: 6.561\n",
            "Iter 134/300 - Loss: 6.399\n",
            "Iter 135/300 - Loss: 6.240\n",
            "Iter 136/300 - Loss: 6.085\n",
            "Iter 137/300 - Loss: 5.937\n",
            "Iter 138/300 - Loss: 5.790\n",
            "Iter 139/300 - Loss: 5.645\n",
            "Iter 140/300 - Loss: 5.506\n",
            "Iter 141/300 - Loss: 5.377\n",
            "Iter 142/300 - Loss: 5.256\n",
            "Iter 143/300 - Loss: 5.140\n",
            "Iter 144/300 - Loss: 5.029\n",
            "Iter 145/300 - Loss: 4.923\n",
            "Iter 146/300 - Loss: 4.823\n",
            "Iter 147/300 - Loss: 4.730\n",
            "Iter 148/300 - Loss: 4.643\n",
            "Iter 149/300 - Loss: 4.560\n",
            "Iter 150/300 - Loss: 4.479\n",
            "Iter 151/300 - Loss: 4.402\n",
            "Iter 152/300 - Loss: 4.331\n",
            "Iter 153/300 - Loss: 4.263\n",
            "Iter 154/300 - Loss: 4.198\n",
            "Iter 155/300 - Loss: 4.136\n",
            "Iter 156/300 - Loss: 4.076\n",
            "Iter 157/300 - Loss: 4.018\n",
            "Iter 158/300 - Loss: 3.964\n",
            "Iter 159/300 - Loss: 3.911\n",
            "Iter 160/300 - Loss: 3.860\n",
            "Iter 161/300 - Loss: 3.810\n",
            "Iter 162/300 - Loss: 3.762\n",
            "Iter 163/300 - Loss: 3.716\n",
            "Iter 164/300 - Loss: 3.672\n",
            "Iter 165/300 - Loss: 3.628\n",
            "Iter 166/300 - Loss: 3.586\n",
            "Iter 167/300 - Loss: 3.545\n",
            "Iter 168/300 - Loss: 3.505\n",
            "Iter 169/300 - Loss: 3.467\n",
            "Iter 170/300 - Loss: 3.429\n",
            "Iter 171/300 - Loss: 3.393\n",
            "Iter 172/300 - Loss: 3.357\n",
            "Iter 173/300 - Loss: 3.321\n",
            "Iter 174/300 - Loss: 3.287\n",
            "Iter 175/300 - Loss: 3.254\n",
            "Iter 176/300 - Loss: 3.221\n",
            "Iter 177/300 - Loss: 3.189\n",
            "Iter 178/300 - Loss: 3.157\n",
            "Iter 179/300 - Loss: 3.126\n",
            "Iter 180/300 - Loss: 3.095\n",
            "Iter 181/300 - Loss: 3.066\n",
            "Iter 182/300 - Loss: 3.037\n",
            "Iter 183/300 - Loss: 3.009\n",
            "Iter 184/300 - Loss: 2.981\n",
            "Iter 185/300 - Loss: 2.953\n",
            "Iter 186/300 - Loss: 2.926\n",
            "Iter 187/300 - Loss: 2.900\n",
            "Iter 188/300 - Loss: 2.873\n",
            "Iter 189/300 - Loss: 2.847\n",
            "Iter 190/300 - Loss: 2.822\n",
            "Iter 191/300 - Loss: 2.796\n",
            "Iter 192/300 - Loss: 2.772\n",
            "Iter 193/300 - Loss: 2.747\n",
            "Iter 194/300 - Loss: 2.723\n",
            "Iter 195/300 - Loss: 2.699\n",
            "Iter 196/300 - Loss: 2.676\n",
            "Iter 197/300 - Loss: 2.653\n",
            "Iter 198/300 - Loss: 2.630\n",
            "Iter 199/300 - Loss: 2.607\n",
            "Iter 200/300 - Loss: 2.585\n",
            "Iter 201/300 - Loss: 2.562\n",
            "Iter 202/300 - Loss: 2.540\n",
            "Iter 203/300 - Loss: 2.519\n",
            "Iter 204/300 - Loss: 2.497\n",
            "Iter 205/300 - Loss: 2.476\n",
            "Iter 206/300 - Loss: 2.455\n",
            "Iter 207/300 - Loss: 2.434\n",
            "Iter 208/300 - Loss: 2.414\n",
            "Iter 209/300 - Loss: 2.393\n",
            "Iter 210/300 - Loss: 2.373\n",
            "Iter 211/300 - Loss: 2.353\n",
            "Iter 212/300 - Loss: 2.333\n",
            "Iter 213/300 - Loss: 2.314\n",
            "Iter 214/300 - Loss: 2.294\n",
            "Iter 215/300 - Loss: 2.275\n",
            "Iter 216/300 - Loss: 2.256\n",
            "Iter 217/300 - Loss: 2.237\n",
            "Iter 218/300 - Loss: 2.218\n",
            "Iter 219/300 - Loss: 2.199\n",
            "Iter 220/300 - Loss: 2.180\n",
            "Iter 221/300 - Loss: 2.162\n",
            "Iter 222/300 - Loss: 2.144\n",
            "Iter 223/300 - Loss: 2.125\n",
            "Iter 224/300 - Loss: 2.107\n",
            "Iter 225/300 - Loss: 2.090\n",
            "Iter 226/300 - Loss: 2.072\n",
            "Iter 227/300 - Loss: 2.054\n",
            "Iter 228/300 - Loss: 2.036\n",
            "Iter 229/300 - Loss: 2.019\n",
            "Iter 230/300 - Loss: 2.002\n",
            "Iter 231/300 - Loss: 1.984\n",
            "Iter 232/300 - Loss: 1.967\n",
            "Iter 233/300 - Loss: 1.950\n",
            "Iter 234/300 - Loss: 1.933\n",
            "Iter 235/300 - Loss: 1.916\n",
            "Iter 236/300 - Loss: 1.899\n",
            "Iter 237/300 - Loss: 1.882\n",
            "Iter 238/300 - Loss: 1.865\n",
            "Iter 239/300 - Loss: 1.849\n",
            "Iter 240/300 - Loss: 1.832\n",
            "Iter 241/300 - Loss: 1.815\n",
            "Iter 242/300 - Loss: 1.798\n",
            "Iter 243/300 - Loss: 1.781\n",
            "Iter 244/300 - Loss: 1.764\n",
            "Iter 245/300 - Loss: 1.747\n",
            "Iter 246/300 - Loss: 1.730\n",
            "Iter 247/300 - Loss: 1.712\n",
            "Iter 248/300 - Loss: 1.694\n",
            "Iter 249/300 - Loss: 1.675\n",
            "Iter 250/300 - Loss: 1.655\n",
            "Iter 251/300 - Loss: 1.634\n",
            "Iter 252/300 - Loss: 1.612\n",
            "Iter 253/300 - Loss: 1.587\n",
            "Iter 254/300 - Loss: 1.560\n",
            "Iter 255/300 - Loss: 1.529\n",
            "Iter 256/300 - Loss: 1.493\n",
            "Iter 257/300 - Loss: 1.451\n",
            "Iter 258/300 - Loss: 1.402\n",
            "Iter 259/300 - Loss: 1.346\n",
            "Iter 260/300 - Loss: 1.284\n",
            "Iter 261/300 - Loss: 1.215\n",
            "Iter 262/300 - Loss: 1.142\n",
            "Iter 263/300 - Loss: 1.064\n",
            "Iter 264/300 - Loss: 0.984\n",
            "Iter 265/300 - Loss: 0.900\n",
            "Iter 266/300 - Loss: 0.813\n",
            "Iter 267/300 - Loss: 0.725\n",
            "Iter 268/300 - Loss: 0.634\n",
            "Iter 269/300 - Loss: 0.542\n",
            "Iter 270/300 - Loss: 0.449\n",
            "Iter 271/300 - Loss: 0.355\n",
            "Iter 272/300 - Loss: 0.262\n",
            "Iter 273/300 - Loss: 0.169\n",
            "Iter 274/300 - Loss: 0.077\n",
            "Iter 275/300 - Loss: -0.014\n",
            "Iter 276/300 - Loss: -0.103\n",
            "Iter 277/300 - Loss: -0.190\n",
            "Iter 278/300 - Loss: -0.274\n",
            "Iter 279/300 - Loss: -0.356\n",
            "Iter 280/300 - Loss: -0.435\n",
            "Iter 281/300 - Loss: -0.512\n",
            "Iter 282/300 - Loss: -0.585\n",
            "Iter 283/300 - Loss: -0.655\n",
            "Iter 284/300 - Loss: -0.723\n",
            "Iter 285/300 - Loss: -0.787\n",
            "Iter 286/300 - Loss: -0.848\n",
            "Iter 287/300 - Loss: -0.906\n",
            "Iter 288/300 - Loss: -0.961\n",
            "Iter 289/300 - Loss: -1.013\n",
            "Iter 290/300 - Loss: -1.062\n",
            "Iter 291/300 - Loss: -1.109\n",
            "Iter 292/300 - Loss: -1.153\n",
            "Iter 293/300 - Loss: -1.194\n",
            "Iter 294/300 - Loss: -1.233\n",
            "Iter 295/300 - Loss: -1.270\n",
            "Iter 296/300 - Loss: -1.304\n",
            "Iter 297/300 - Loss: -1.337\n",
            "Iter 298/300 - Loss: -1.368\n",
            "Iter 299/300 - Loss: -1.398\n",
            "Iter 300/300 - Loss: -1.426\n"
          ]
        }
      ],
      "source": [
        "gp = MGPFullyBayesianSingleTaskGP(\n",
        "    train_X=train_X, \n",
        "    train_Y=train_Y, \n",
        "    outcome_transform=Standardize(m=1)\n",
        ")\n",
        "ll = fit_partially_bayesian_mgp_model(gp,16, 0.1, 300)\n",
        "with torch.no_grad():\n",
        "    posterior = gp.posterior(test_X, ll=ll)"
      ]
    },
    {
      "cell_type": "code",
      "execution_count": 42,
      "metadata": {},
      "outputs": [
        {
          "data": {
            "text/plain": [
              "tensor([3.9878, 3.6487, 0.8993, 0.0197, 0.0359, 4.6335, 5.2832, 0.8998],\n",
              "       dtype=torch.float64, grad_fn=<SoftplusBackward0>)"
            ]
          },
          "execution_count": 42,
          "metadata": {},
          "output_type": "execute_result"
        }
      ],
      "source": [
        "gp.covar_module.outputscale"
      ]
    },
    {
      "cell_type": "code",
      "execution_count": 43,
      "metadata": {},
      "outputs": [
        {
          "data": {
            "text/plain": [
              "tensor([[[1.2079e+00, 2.8787e+01, 3.0327e+01, 1.2137e+01]],\n",
              "\n",
              "        [[1.1445e+00, 1.4457e+01, 5.1594e+01, 1.6583e+01]],\n",
              "\n",
              "        [[5.2886e+03, 5.1947e+01, 1.9627e-02, 4.2389e-03]],\n",
              "\n",
              "        [[2.2876e-02, 2.5372e-01, 5.5768e-02, 5.3814e-04]],\n",
              "\n",
              "        [[6.2208e+01, 5.7439e+00, 3.9879e+00, 1.2580e+00]],\n",
              "\n",
              "        [[1.2587e+00, 4.9711e+01, 2.5633e+01, 4.7929e+01]],\n",
              "\n",
              "        [[1.3061e+00, 7.0110e+01, 3.8082e+01, 9.6062e+01]],\n",
              "\n",
              "        [[1.3664e-01, 1.6955e-02, 6.4868e-02, 2.7230e-03]]],\n",
              "       dtype=torch.float64, grad_fn=<SoftplusBackward0>)"
            ]
          },
          "execution_count": 43,
          "metadata": {},
          "output_type": "execute_result"
        }
      ],
      "source": [
        "gp.covar_module.base_kernel.lengthscale"
      ]
    },
    {
      "cell_type": "code",
      "execution_count": 44,
      "metadata": {},
      "outputs": [
        {
          "data": {
            "text/plain": [
              "tensor([[[1.2079e+00, 2.8787e+01, 3.0327e+01, 1.2137e+01]],\n",
              "\n",
              "        [[1.1445e+00, 1.4457e+01, 5.1594e+01, 1.6583e+01]],\n",
              "\n",
              "        [[5.2886e+03, 5.1947e+01, 1.9627e-02, 4.2389e-03]],\n",
              "\n",
              "        [[2.2876e-02, 2.5372e-01, 5.5768e-02, 5.3814e-04]],\n",
              "\n",
              "        [[6.2208e+01, 5.7439e+00, 3.9879e+00, 1.2580e+00]],\n",
              "\n",
              "        [[1.2587e+00, 4.9711e+01, 2.5633e+01, 4.7929e+01]],\n",
              "\n",
              "        [[1.3061e+00, 7.0110e+01, 3.8082e+01, 9.6062e+01]],\n",
              "\n",
              "        [[1.3664e-01, 1.6955e-02, 6.4868e-02, 2.7230e-03]]],\n",
              "       dtype=torch.float64, grad_fn=<SoftplusBackward0>)"
            ]
          },
          "execution_count": 44,
          "metadata": {},
          "output_type": "execute_result"
        }
      ],
      "source": [
        "gp.covar_module.base_kernel.lengthscale"
      ]
    },
    {
      "cell_type": "code",
      "execution_count": 45,
      "metadata": {},
      "outputs": [],
      "source": [
        "gp = MGPFullyBayesianSingleTaskGP(\n",
        "    train_X=train_X, \n",
        "    train_Y=train_Y, \n",
        "    outcome_transform=Standardize(m=1)\n",
        ")"
      ]
    },
    {
      "cell_type": "code",
      "execution_count": 7,
      "metadata": {},
      "outputs": [
        {
          "data": {
            "image/png": "[encoded data removed]",
            "text/plain": [
              "<Figure size 640x480 with 1 Axes>"
            ]
          },
          "metadata": {},
          "output_type": "display_data"
        }
      ],
      "source": [
        "import matplotlib.pyplot as plt\n",
        "data_array = ll.exp().detach().squeeze().numpy()\n",
        "\n",
        "# Create a bar plot\n",
        "plt.bar(range(len(data_array)), data_array)\n",
        "\n",
        "# Add labels and title\n",
        "plt.xlabel('Index')\n",
        "plt.ylabel('Value')\n",
        "plt.title('Bar Plot of Tensor')\n",
        "\n",
        "# Show the plot\n",
        "plt.show()"
      ]
    },
    {
      "cell_type": "markdown",
      "metadata": {
        "code_folding": [],
        "customInput": null,
        "hidden_ranges": [],
        "originalKey": "5f4fa168-2662-499b-ac82-3ab122dfe2ad",
        "showInput": false
      },
      "source": [
        "Computing the median lengthscales over the MCMC dimensions makes it clear that the first feature has the smallest lengthscale\n"
      ]
    },
    {
      "attachments": {},
      "cell_type": "markdown",
      "metadata": {
        "code_folding": [],
        "customInput": null,
        "hidden_ranges": [],
        "originalKey": "cf15a6ca-3377-40d1-9821-fad8f6600657",
        "showInput": false
      },
      "source": [
        "### Make predictions with the model\n",
        "\n",
        "In the next cell we show how to make predictions with the SAAS model. You compute the mean\n",
        "and variance for test points just like for any other BoTorch posteriors. Note that the mean \n",
        "and posterior will have an extra batch dimension at -3 that corresponds to the number of MCMC\n",
        "samples (which is 8 in this tutorial)."
      ]
    },
    {
      "cell_type": "code",
      "execution_count": 7,
      "metadata": {
        "code_folding": [],
        "customInput": null,
        "customOutput": null,
        "executionStartTime": 1668653471916,
        "executionStopTime": 1668653472023,
        "hidden_ranges": [],
        "originalKey": "898039a4-6ec8-46bd-a583-5a1614a3ccf6",
        "requestMsgId": "4328636f-fb02-44ee-8c48-842c3845297f",
        "showInput": true
      },
      "outputs": [
        {
          "name": "stdout",
          "output_type": "stream",
          "text": [
            "torch.Size([16, 5, 1])\n",
            "torch.Size([16, 5, 1])\n"
          ]
        }
      ],
      "source": [
        "print(posterior.mean.shape)\n",
        "print(posterior.variance.shape)"
      ]
    },
    {
      "cell_type": "code",
      "execution_count": 34,
      "metadata": {},
      "outputs": [],
      "source": [
        "weights = ll.exp().detach().squeeze().div(ll.exp().sum())\n",
        "shaped_weights = weights.repeat(5, 1).t().unsqueeze(-1)"
      ]
    },
    {
      "cell_type": "code",
      "execution_count": 36,
      "metadata": {},
      "outputs": [],
      "source": [
        "argmax_likelihood =weights.argmax()"
      ]
    },
    {
      "cell_type": "code",
      "execution_count": 37,
      "metadata": {},
      "outputs": [
        {
          "data": {
            "text/plain": [
              "tensor([[0.2042],\n",
              "        [0.5654],\n",
              "        [0.1299],\n",
              "        [0.2812],\n",
              "        [0.0850]], dtype=torch.float64)"
            ]
          },
          "execution_count": 37,
          "metadata": {},
          "output_type": "execute_result"
        }
      ],
      "source": [
        "posterior.mean[argmax_likelihood]"
      ]
    },
    {
      "cell_type": "code",
      "execution_count": 133,
      "metadata": {},
      "outputs": [
        {
          "data": {
            "text/plain": [
              "tensor([[0.0241],\n",
              "        [0.2831],\n",
              "        [0.7272],\n",
              "        [0.6190],\n",
              "        [0.5482]], dtype=torch.float64, grad_fn=<SumBackward1>)"
            ]
          },
          "execution_count": 133,
          "metadata": {},
          "output_type": "execute_result"
        }
      ],
      "source": [
        "posterior.mean.mul(shaped_weights).sum(dim=-3)"
      ]
    },
    {
      "cell_type": "code",
      "execution_count": 26,
      "metadata": {},
      "outputs": [
        {
          "data": {
            "text/plain": [
              "tensor([[[0.2728],\n",
              "         [0.5642],\n",
              "         [0.2114],\n",
              "         [0.3320],\n",
              "         [0.1886]],\n",
              "\n",
              "        [[0.2728],\n",
              "         [0.5642],\n",
              "         [0.2114],\n",
              "         [0.3320],\n",
              "         [0.1886]],\n",
              "\n",
              "        [[0.2728],\n",
              "         [0.5642],\n",
              "         [0.2114],\n",
              "         [0.3320],\n",
              "         [0.1886]],\n",
              "\n",
              "        [[0.2728],\n",
              "         [0.5642],\n",
              "         [0.2114],\n",
              "         [0.3320],\n",
              "         [0.1886]],\n",
              "\n",
              "        [[0.2728],\n",
              "         [0.5642],\n",
              "         [0.2114],\n",
              "         [0.3320],\n",
              "         [0.1886]],\n",
              "\n",
              "        [[0.2728],\n",
              "         [0.5642],\n",
              "         [0.2114],\n",
              "         [0.3320],\n",
              "         [0.1886]],\n",
              "\n",
              "        [[0.2728],\n",
              "         [0.5642],\n",
              "         [0.2114],\n",
              "         [0.3320],\n",
              "         [0.1886]],\n",
              "\n",
              "        [[0.2728],\n",
              "         [0.5642],\n",
              "         [0.2114],\n",
              "         [0.3320],\n",
              "         [0.1886]],\n",
              "\n",
              "        [[0.2728],\n",
              "         [0.5642],\n",
              "         [0.2114],\n",
              "         [0.3320],\n",
              "         [0.1886]],\n",
              "\n",
              "        [[0.2728],\n",
              "         [0.5642],\n",
              "         [0.2114],\n",
              "         [0.3320],\n",
              "         [0.1886]],\n",
              "\n",
              "        [[0.2728],\n",
              "         [0.5642],\n",
              "         [0.2114],\n",
              "         [0.3320],\n",
              "         [0.1886]],\n",
              "\n",
              "        [[0.2728],\n",
              "         [0.5642],\n",
              "         [0.2114],\n",
              "         [0.3320],\n",
              "         [0.1886]],\n",
              "\n",
              "        [[0.2728],\n",
              "         [0.5642],\n",
              "         [0.2114],\n",
              "         [0.3320],\n",
              "         [0.1886]],\n",
              "\n",
              "        [[0.2728],\n",
              "         [0.5642],\n",
              "         [0.2114],\n",
              "         [0.3320],\n",
              "         [0.1886]],\n",
              "\n",
              "        [[0.2728],\n",
              "         [0.5642],\n",
              "         [0.2114],\n",
              "         [0.3320],\n",
              "         [0.1886]],\n",
              "\n",
              "        [[0.2728],\n",
              "         [0.5642],\n",
              "         [0.2114],\n",
              "         [0.3320],\n",
              "         [0.1886]]], dtype=torch.float64)"
            ]
          },
          "execution_count": 26,
          "metadata": {},
          "output_type": "execute_result"
        }
      ],
      "source": [
        "posterior.mixture_mean.repeat(16,1,1)"
      ]
    },
    {
      "cell_type": "code",
      "execution_count": 35,
      "metadata": {},
      "outputs": [
        {
          "data": {
            "text/plain": [
              "tensor([[5.5024e-03],\n",
              "        [1.3930e-06],\n",
              "        [7.8772e-03],\n",
              "        [3.1244e-03],\n",
              "        [1.2479e-02]], dtype=torch.float64, grad_fn=<SumBackward1>)"
            ]
          },
          "execution_count": 35,
          "metadata": {},
          "output_type": "execute_result"
        }
      ],
      "source": [
        "mean_minus_mgpmean = posterior.mean - posterior.mixture_mean.repeat(16,1,1)\n",
        "mean_minus_mgpmean.pow(2).mul(shaped_weights).sum(dim=-3)"
      ]
    },
    {
      "cell_type": "code",
      "execution_count": 33,
      "metadata": {},
      "outputs": [
        {
          "data": {
            "text/plain": [
              "16"
            ]
          },
          "execution_count": 33,
          "metadata": {},
          "output_type": "execute_result"
        }
      ],
      "source": [
        "posterior.mean.shape[-3]"
      ]
    },
    {
      "cell_type": "markdown",
      "metadata": {
        "code_folding": [],
        "customInput": null,
        "hidden_ranges": [],
        "originalKey": "02b33f7f-4f31-432a-bac7-8cad1831e9a1",
        "showInput": false
      },
      "source": [
        "We also provide several convenience methods for computing different statistics over the MCMC samples:\n",
        "```\n",
        "mixture_mean = posterior.mixture_mean\n",
        "mixture_variance = posterior.mixture_variance\n",
        "mixture_quantile = posterior.quantile(q=0.95)\n",
        "```"
      ]
    },
    {
      "cell_type": "code",
      "execution_count": 10,
      "metadata": {},
      "outputs": [
        {
          "name": "stdout",
          "output_type": "stream",
          "text": [
            "Ground truth:     tensor([0.6125, 0.4676, 0.5115, 0.7701, 0.1501], dtype=torch.float64)\n",
            "Mixture mean:     tensor([0.6127, 0.4669, 0.5117, 0.7688, 0.1497], dtype=torch.float64)\n"
          ]
        }
      ],
      "source": [
        "print(f\"Ground truth:     {test_Y.squeeze(-1)}\")\n",
        "print(f\"Mixture mean:     {posterior.best_mixture_mean.squeeze(-1)}\")"
      ]
    },
    {
      "cell_type": "code",
      "execution_count": 24,
      "metadata": {
        "code_folding": [],
        "customInput": null,
        "customOutput": null,
        "executionStartTime": 1668653472240,
        "executionStopTime": 1668653472326,
        "hidden_ranges": [],
        "originalKey": "b387d057-a497-401b-bfc2-ab427669c451",
        "requestMsgId": "64e0ee73-6ffd-4ad5-b9b2-bd9ea4e637ee",
        "showInput": true
      },
      "outputs": [
        {
          "name": "stdout",
          "output_type": "stream",
          "text": [
            "Ground truth:     tensor([0.3318, 0.7785, 0.5981, 0.8184, 0.6759], dtype=torch.float64)\n",
            "Mixture mean:     tensor([9.8444e-07, 3.1898e-06, 1.9326e-06, 8.3460e-06, 2.0857e-06],\n",
            "       dtype=torch.float64)\n"
          ]
        }
      ],
      "source": [
        "print(f\"Ground truth:     {test_Y.squeeze(-1)}\")\n",
        "print(f\"Mixture mean:     {posterior.weighted_variance.squeeze(-1)}\")"
      ]
    },
    {
      "cell_type": "code",
      "execution_count": 6,
      "metadata": {},
      "outputs": [],
      "source": [
        "from mgp_models.acquisition import BQBCAcquisitionFunction"
      ]
    },
    {
      "cell_type": "code",
      "execution_count": 7,
      "metadata": {},
      "outputs": [
        {
          "data": {
            "text/plain": [
              "tensor([[2.8119e-04],\n",
              "        [2.4745e-06],\n",
              "        [7.9849e-04],\n",
              "        [2.0522e-03],\n",
              "        [4.4465e-03]], dtype=torch.float64, grad_fn=<SumBackward1>)"
            ]
          },
          "execution_count": 7,
          "metadata": {},
          "output_type": "execute_result"
        }
      ],
      "source": [
        "BALM = BQBCAcquisitionFunction(gp, ll=ll)\n",
        "BALM(test_X)"
      ]
    },
    {
      "cell_type": "code",
      "execution_count": 38,
      "metadata": {},
      "outputs": [
        {
          "data": {
            "text/plain": [
              "tensor([[0.6519, 0.5647, 0.2241, 0.4831]], dtype=torch.float64)"
            ]
          },
          "execution_count": 38,
          "metadata": {},
          "output_type": "execute_result"
        }
      ],
      "source": [
        "test_X[0].unsqueeze(0)"
      ]
    },
    {
      "cell_type": "markdown",
      "metadata": {
        "code_folding": [],
        "customInput": null,
        "executionStartTime": 1644277314184,
        "executionStopTime": 1644277314189,
        "hidden_ranges": [],
        "originalKey": "d9bec8be-2acd-40b8-aebb-612b62bbdfc3",
        "requestMsgId": "d9bec8be-2acd-40b8-aebb-612b62bbdfc3",
        "showInput": false
      },
      "source": [
        "## Optimize Branin embedded in a 30D space\n",
        "We take the standard 2D Branin problem and embed it in a 30D space. In particular,\n",
        "we let dimensions 0 and 1 correspond to the true dimensions. We will show that\n",
        "SAASBO is able to identify the important dimensions and efficiently optimize this function.\n",
        "We work with the domain $[0, 1]^d$ and unnormalize the inputs to the true domain of Branin \n",
        "before evaluating the function."
      ]
    },
    {
      "cell_type": "code",
      "execution_count": 9,
      "metadata": {
        "code_folding": [],
        "customInput": null,
        "customOutput": null,
        "executionStartTime": 1668653472540,
        "executionStopTime": 1668653472545,
        "hidden_ranges": [],
        "originalKey": "15baa08e-ca35-4da7-a495-c63fe5d5779d",
        "requestMsgId": "6c3f8d91-9139-4c07-986f-77629b1887e5",
        "showInput": true
      },
      "outputs": [],
      "source": [
        "branin = Branin().to(**tkwargs)\n",
        "\n",
        "\n",
        "def branin_emb(x):\n",
        "    \"\"\"x is assumed to be in [0, 1]^d\"\"\"\n",
        "    lb, ub = branin.bounds\n",
        "    return branin(lb + (ub - lb) * x[..., :2])"
      ]
    },
    {
      "cell_type": "code",
      "execution_count": 10,
      "metadata": {
        "code_folding": [],
        "customInput": null,
        "customOutput": null,
        "executionStartTime": 1668653472768,
        "executionStopTime": 1668653472776,
        "hidden_ranges": [],
        "originalKey": "98b6936b-2f06-4d1f-82c0-2f1bd660d0b2",
        "requestMsgId": "1b5baaf2-e690-4b4d-9011-b6124e083410",
        "showInput": true
      },
      "outputs": [
        {
          "name": "stdout",
          "output_type": "stream",
          "text": [
            "Using a total of 50 function evaluations\n"
          ]
        }
      ],
      "source": [
        "DIM = 30 if not SMOKE_TEST else 10\n",
        "\n",
        "# Evaluation budget\n",
        "N_INIT = 10\n",
        "N_ITERATIONS = 8 if not SMOKE_TEST else 1\n",
        "BATCH_SIZE = 5 if not SMOKE_TEST else 1\n",
        "print(f\"Using a total of {N_INIT + BATCH_SIZE * N_ITERATIONS} function evaluations\")"
      ]
    },
    {
      "cell_type": "markdown",
      "metadata": {
        "code_folding": [],
        "customInput": null,
        "hidden_ranges": [],
        "originalKey": "27fd793f-18ee-49cb-9aa5-c8cd78b0b807",
        "showInput": false
      },
      "source": [
        "### Run the optimization\n",
        "We use 10 initial Sobol points followed by 8 iterations of BO using a batch size of 5, \n",
        "which results in a total of 50 function evaluations. As our goal is to minimize Branin, we flip\n",
        "the sign of the function values before fitting the SAAS model as the BoTorch acquisition\n",
        "functions assume maximization."
      ]
    },
    {
      "cell_type": "code",
      "execution_count": 13,
      "metadata": {
        "code_folding": [],
        "customInput": null,
        "customOutput": null,
        "executionStartTime": 1668653473096,
        "executionStopTime": 1668655621405,
        "hidden_ranges": [],
        "originalKey": "269287e0-500f-474d-891a-5439487e9a77",
        "requestMsgId": "5117b535-1fe7-40be-9f68-361db9d9b51b",
        "showInput": true
      },
      "outputs": [
        {
          "name": "stdout",
          "output_type": "stream",
          "text": [
            "Best initial point: 5.322\n",
            "1) New best: 2.371 @ [1.000, 0.157]\n",
            "3) New best: 1.960 @ [1.000, 0.192]\n",
            "4) New best: 1.490 @ [0.511, 0.191]\n",
            "5) New best: 0.421 @ [0.543, 0.161]\n",
            "7) New best: 0.408 @ [0.543, 0.158]\n",
            "8) New best: 0.403 @ [0.544, 0.147]\n"
          ]
        }
      ],
      "source": [
        "X = SobolEngine(dimension=DIM, scramble=True, seed=0).draw(N_INIT).to(**tkwargs)\n",
        "Y = branin_emb(X).unsqueeze(-1)\n",
        "print(f\"Best initial point: {Y.min().item():.3f}\")\n",
        "\n",
        "for i in range(N_ITERATIONS):\n",
        "    train_Y = -1 * Y  # Flip the sign since we want to minimize f(x)\n",
        "    gp = SaasFullyBayesianSingleTaskGP(\n",
        "        train_X=X,\n",
        "        train_Y=train_Y,\n",
        "        train_Yvar=torch.full_like(train_Y, 1e-6),\n",
        "        outcome_transform=Standardize(m=1),\n",
        "    )\n",
        "    fit_fully_bayesian_model_nuts(\n",
        "        gp,\n",
        "        warmup_steps=WARMUP_STEPS,\n",
        "        num_samples=NUM_SAMPLES,\n",
        "        thinning=THINNING,\n",
        "        disable_progbar=True,\n",
        "    )\n",
        "\n",
        "    EI = qExpectedImprovement(model=gp, best_f=train_Y.max())\n",
        "    candidates, acq_values = optimize_acqf(\n",
        "        EI,\n",
        "        bounds=torch.cat((torch.zeros(1, DIM), torch.ones(1, DIM))).to(**tkwargs),\n",
        "        q=BATCH_SIZE,\n",
        "        num_restarts=10,\n",
        "        raw_samples=1024,\n",
        "    )\n",
        "\n",
        "    Y_next = torch.cat([branin_emb(x).unsqueeze(-1) for x in candidates]).unsqueeze(-1)\n",
        "    if Y_next.min() < Y.min():\n",
        "        ind_best = Y_next.argmin()\n",
        "        x0, x1 = candidates[ind_best, :2].tolist()\n",
        "        print(\n",
        "            f\"{i + 1}) New best: {Y_next[ind_best].item():.3f} @ \"\n",
        "            f\"[{x0:.3f}, {x1:.3f}]\"\n",
        "        )\n",
        "    X = torch.cat((X, candidates))\n",
        "    Y = torch.cat((Y, Y_next))"
      ]
    },
    {
      "cell_type": "code",
      "execution_count": null,
      "metadata": {},
      "outputs": [],
      "source": [
        "X = SobolEngine(dimension=DIM, scramble=True, seed=0).draw(N_INIT).to(**tkwargs)\n",
        "Y = branin_emb(X).unsqueeze(-1)\n",
        "print(f\"Best initial point: {Y.min().item():.3f}\")\n",
        "\n",
        "for i in range(N_ITERATIONS):\n",
        "    train_Y = -1 * Y  # Flip the sign since we want to minimize f(x)\n",
        "    gp = MGPFullyBayesianSingleTaskGP(\n",
        "        train_X=X,\n",
        "        train_Y=train_Y,\n",
        "        train_Yvar=torch.full_like(train_Y, 1e-6),\n",
        "        outcome_transform=Standardize(m=1),\n",
        "    )\n",
        "    fit_fully_bayesian_mgp_model_nuts(\n",
        "        gp,\n",
        "        warmup_steps=WARMUP_STEPS,\n",
        "        num_samples=NUM_SAMPLES,\n",
        "        thinning=THINNING,\n",
        "        disable_progbar=True,\n",
        "    )\n",
        "\n",
        "    EI = qExpectedImprovement(model=gp, best_f=train_Y.max())\n",
        "    candidates, acq_values = optimize_acqf(\n",
        "        EI,\n",
        "        bounds=torch.cat((torch.zeros(1, DIM), torch.ones(1, DIM))).to(**tkwargs),\n",
        "        q=BATCH_SIZE,\n",
        "        num_restarts=10,\n",
        "        raw_samples=1024,\n",
        "    )\n",
        "\n",
        "    Y_next = torch.cat([branin_emb(x).unsqueeze(-1) for x in candidates]).unsqueeze(-1)\n",
        "    if Y_next.min() < Y.min():\n",
        "        ind_best = Y_next.argmin()\n",
        "        x0, x1 = candidates[ind_best, :2].tolist()\n",
        "        print(\n",
        "            f\"{i + 1}) New best: {Y_next[ind_best].item():.3f} @ \"\n",
        "            f\"[{x0:.3f}, {x1:.3f}]\"\n",
        "        )\n",
        "    X = torch.cat((X, candidates))\n",
        "    Y = torch.cat((Y, Y_next))"
      ]
    },
    {
      "cell_type": "markdown",
      "metadata": {
        "code_folding": [],
        "customInput": null,
        "hidden_ranges": [],
        "originalKey": "a9704a99-0712-40bb-a263-6798e0925291",
        "showInput": false
      },
      "source": [
        "## Plot the results\n",
        "\n",
        "We can see that we were able to get close to the global optimium of $\\approx 0.398$ after 50 function evaluations.\n"
      ]
    },
    {
      "cell_type": "code",
      "execution_count": 12,
      "metadata": {
        "code_folding": [],
        "customInput": null,
        "customOutput": null,
        "executionStartTime": 1668655621761,
        "executionStopTime": 1668655621936,
        "hidden_ranges": [],
        "originalKey": "fd0d7aa7-8d55-4942-adc2-de356666ac84",
        "requestMsgId": "4024717d-fc5c-4939-90ce-fb24b3e06ea3",
        "showInput": true
      },
      "outputs": [
        {
          "ename": "ModuleNotFoundError",
          "evalue": "No module named 'matplotlib'",
          "output_type": "error",
          "traceback": [
            "\u001b[1;31m---------------------------------------------------------------------------\u001b[0m",
            "\u001b[1;31mModuleNotFoundError\u001b[0m                       Traceback (most recent call last)",
            "Cell \u001b[1;32mIn[12], line 1\u001b[0m\n\u001b[1;32m----> 1\u001b[0m \u001b[38;5;28;01mimport\u001b[39;00m \u001b[38;5;21;01mmatplotlib\u001b[39;00m\u001b[38;5;21;01m.\u001b[39;00m\u001b[38;5;21;01mpyplot\u001b[39;00m \u001b[38;5;28;01mas\u001b[39;00m \u001b[38;5;21;01mplt\u001b[39;00m\n\u001b[0;32m      2\u001b[0m \u001b[38;5;28;01mimport\u001b[39;00m \u001b[38;5;21;01mnumpy\u001b[39;00m \u001b[38;5;28;01mas\u001b[39;00m \u001b[38;5;21;01mnp\u001b[39;00m\n\u001b[0;32m      4\u001b[0m get_ipython()\u001b[38;5;241m.\u001b[39mrun_line_magic(\u001b[38;5;124m'\u001b[39m\u001b[38;5;124mmatplotlib\u001b[39m\u001b[38;5;124m'\u001b[39m, \u001b[38;5;124m'\u001b[39m\u001b[38;5;124minline\u001b[39m\u001b[38;5;124m'\u001b[39m)\n",
            "\u001b[1;31mModuleNotFoundError\u001b[0m: No module named 'matplotlib'"
          ]
        }
      ],
      "source": [
        "import matplotlib.pyplot as plt\n",
        "import numpy as np\n",
        "\n",
        "%matplotlib inline\n",
        "\n",
        "Y_np = Y.cpu().numpy()\n",
        "fig, ax = plt.subplots(figsize=(8, 6))\n",
        "ax.plot(np.minimum.accumulate(Y_np), color=\"b\", label=\"SAASBO\")\n",
        "ax.plot([0, len(Y_np)], [0.398, 0.398], \"--\", c=\"g\", lw=3, label=\"Optimal value\")\n",
        "ax.grid(True)\n",
        "ax.set_title(f\"Branin, D = {DIM}\", fontsize=20)\n",
        "ax.set_xlabel(\"Number of evaluations\", fontsize=20)\n",
        "ax.set_xlim([0, len(Y_np)])\n",
        "ax.set_ylabel(\"Best value found\", fontsize=20)\n",
        "ax.set_ylim([0, 8])\n",
        "ax.legend(fontsize=18)\n",
        "plt.show()"
      ]
    },
    {
      "cell_type": "markdown",
      "metadata": {
        "code_folding": [],
        "customInput": null,
        "hidden_ranges": [],
        "originalKey": "d81134ff-cec6-45cb-92bf-4170f428af40",
        "showInput": false
      },
      "source": [
        "## Predict on some test points\n",
        "We fit a model using the 50 datapoints collected by SAASBO and predict on 50 test \n",
        "points in order to see how well the SAAS model predicts out-of-sample.\n",
        "The plot shows the mean and a 95% confidence interval for each test point."
      ]
    },
    {
      "cell_type": "code",
      "execution_count": 13,
      "metadata": {
        "code_folding": [],
        "customInput": null,
        "customOutput": null,
        "executionStartTime": 1668655622271,
        "executionStopTime": 1668655822584,
        "hidden_ranges": [],
        "originalKey": "970977ea-ee5e-46eb-b500-683673ce723e",
        "requestMsgId": "2ae0c053-022f-4902-8bc5-b904bd85f90d",
        "showInput": true
      },
      "outputs": [],
      "source": [
        "train_X = SobolEngine(dimension=DIM, scramble=True, seed=0).draw(50).to(**tkwargs)\n",
        "test_X = SobolEngine(dimension=DIM, scramble=True, seed=1).draw(50).to(**tkwargs)\n",
        "train_Y = branin_emb(train_X).unsqueeze(-1)\n",
        "test_Y = branin_emb(test_X).unsqueeze(-1)\n",
        "\n",
        "gp = SaasFullyBayesianSingleTaskGP(\n",
        "    train_X=train_X,\n",
        "    train_Y=train_Y,\n",
        "    train_Yvar=torch.full_like(train_Y, 1e-6),\n",
        "    outcome_transform=Standardize(m=1),\n",
        ")\n",
        "fit_fully_bayesian_model_nuts(\n",
        "    gp,\n",
        "    warmup_steps=WARMUP_STEPS,\n",
        "    num_samples=NUM_SAMPLES,\n",
        "    thinning=THINNING,\n",
        "    disable_progbar=True,\n",
        ")"
      ]
    },
    {
      "cell_type": "code",
      "execution_count": 14,
      "metadata": {
        "code_folding": [],
        "customInput": null,
        "customOutput": null,
        "executionStartTime": 1668655921184,
        "executionStopTime": 1668655921625,
        "hidden_ranges": [],
        "originalKey": "25139c91-a34c-4fa8-808f-70c1cf6952fd",
        "requestMsgId": "ad9413e7-09aa-47f5-b435-bf37cf0180d1",
        "showInput": true
      },
      "outputs": [],
      "source": [
        "with torch.no_grad():\n",
        "    posterior = gp.posterior(test_X)\n",
        "median = posterior.quantile(value=torch.tensor([0.5], **tkwargs))\n",
        "q1 = posterior.quantile(value=torch.tensor([0.025], **tkwargs))\n",
        "q2 = posterior.quantile(value=torch.tensor([0.975], **tkwargs))"
      ]
    },
    {
      "cell_type": "code",
      "execution_count": 15,
      "metadata": {
        "code_folding": [],
        "customInput": null,
        "customOutput": null,
        "executionStartTime": 1668655923525,
        "executionStopTime": 1668655923743,
        "hidden_ranges": [],
        "originalKey": "39163b27-e252-4244-9712-f52503e00f74",
        "requestMsgId": "7c819fcc-5f74-48b1-9fd4-286839fdd0b6",
        "showInput": true
      },
      "outputs": [
        {
          "data": {
            "image/png": "[encoded data removed]",
            "text/plain": [
              "<Figure size 800x600 with 1 Axes>"
            ]
          },
          "metadata": {},
          "output_type": "display_data"
        }
      ],
      "source": [
        "fig, ax = plt.subplots(1, 1, figsize=(8, 6))\n",
        "ax.plot([0, 80], [0, 80], \"b--\", lw=2)\n",
        "\n",
        "yerr1, yerr2 = median - q1, q2 - median\n",
        "yerr = torch.cat((yerr1.unsqueeze(0), yerr2.unsqueeze(0)), dim=0).squeeze(-1)\n",
        "markers, caps, bars = ax.errorbar(\n",
        "    test_Y.squeeze(-1).cpu().numpy(),\n",
        "    median.squeeze(-1).cpu().numpy(),\n",
        "    yerr=yerr.cpu().numpy(),\n",
        "    fmt=\".\",\n",
        "    capsize=4,\n",
        "    elinewidth=2.0,\n",
        "    ms=14,\n",
        "    c=\"k\",\n",
        "    ecolor=\"gray\",\n",
        ")\n",
        "ax.set_xlim([0, 80])\n",
        "ax.set_ylim([0, 80])\n",
        "[bar.set_alpha(0.8) for bar in bars]\n",
        "[cap.set_alpha(0.8) for cap in caps]\n",
        "ax.set_xlabel(\"True value\", fontsize=20)\n",
        "ax.set_ylabel(\"Predicted value\", fontsize=20)\n",
        "ax.set_aspect(\"equal\")\n",
        "ax.grid(True)"
      ]
    },
    {
      "cell_type": "markdown",
      "metadata": {
        "code_folding": [],
        "customInput": null,
        "hidden_ranges": [],
        "originalKey": "34e976cd-7d09-40d2-8987-aecdefa7c0fd",
        "requestMsgId": "34e976cd-7d09-40d2-8987-aecdefa7c0fd",
        "showInput": false
      },
      "source": [
        "## Look a the lengthscales from the final model\n",
        "\n",
        "As SAASBO places strong priors on the inverse lengthscales, we only expect parameters \n",
        "0 and 1 to be identified as important by the model since the other parameters have no effect.\n",
        "We can confirm that this is the case below as the lengthscales of parameters 0 and 1 are \n",
        "small with all other lengthscales being large."
      ]
    },
    {
      "cell_type": "code",
      "execution_count": 16,
      "metadata": {
        "code_folding": [],
        "customInput": null,
        "customOutput": null,
        "executionStartTime": 1668655927129,
        "executionStopTime": 1668655927142,
        "hidden_ranges": [],
        "originalKey": "33147b57-ea6b-4c67-9c7d-796bb54d5c84",
        "requestMsgId": "b32e63df-16ee-45f1-af94-7f6f4bb78173",
        "showInput": true
      },
      "outputs": [
        {
          "name": "stdout",
          "output_type": "stream",
          "text": [
            "Parameter  0) Median lengthscale = 7.57e-01\n",
            "Parameter  1) Median lengthscale = 2.65e+00\n",
            "Parameter 24) Median lengthscale = 6.28e+02\n",
            "Parameter  7) Median lengthscale = 6.77e+02\n",
            "Parameter 29) Median lengthscale = 7.54e+02\n",
            "Parameter 19) Median lengthscale = 7.65e+02\n",
            "Parameter 16) Median lengthscale = 7.94e+02\n",
            "Parameter 27) Median lengthscale = 8.03e+02\n",
            "Parameter 15) Median lengthscale = 8.32e+02\n",
            "Parameter 26) Median lengthscale = 8.35e+02\n"
          ]
        }
      ],
      "source": [
        "median_lengthscales = gp.median_lengthscale\n",
        "for i in median_lengthscales.argsort()[:10]:\n",
        "    print(f\"Parameter {i:2}) Median lengthscale = {median_lengthscales[i].item():.2e}\")"
      ]
    },
    {
      "cell_type": "code",
      "execution_count": null,
      "metadata": {},
      "outputs": [],
      "source": []
    }
  ],
  "metadata": {
    "fileHeader": "",
    "kernelspec": {
      "display_name": "python3",
      "language": "python",
      "name": "python3"
    },
    "language_info": {
      "codemirror_mode": {
        "name": "ipython",
        "version": 3
      },
      "file_extension": ".py",
      "mimetype": "text/x-python",
      "name": "python",
      "nbconvert_exporter": "python",
      "pygments_lexer": "ipython3",
      "version": "3.11.7"
    }
  },
  "nbformat": 4,
  "nbformat_minor": 2
}
