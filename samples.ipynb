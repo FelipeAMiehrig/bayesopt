{
 "cells": [
  {
   "cell_type": "code",
   "execution_count": 3,
   "metadata": {},
   "outputs": [
    {
     "ename": "AttributeError",
     "evalue": "'GaussianLikelihood' object has no attribute 'dim'",
     "output_type": "error",
     "traceback": [
      "\u001b[1;31m---------------------------------------------------------------------------\u001b[0m",
      "\u001b[1;31mAttributeError\u001b[0m                            Traceback (most recent call last)",
      "Cell \u001b[1;32mIn[3], line 13\u001b[0m\n\u001b[0;32m     11\u001b[0m \u001b[38;5;66;03m# Define GP model\u001b[39;00m\n\u001b[0;32m     12\u001b[0m likelihood \u001b[38;5;241m=\u001b[39m GaussianLikelihood()\n\u001b[1;32m---> 13\u001b[0m model \u001b[38;5;241m=\u001b[39m \u001b[43mSingleTaskGP\u001b[49m\u001b[43m(\u001b[49m\u001b[43mtrain_x\u001b[49m\u001b[43m,\u001b[49m\u001b[43m \u001b[49m\u001b[43mtrain_y\u001b[49m\u001b[38;5;241;43m.\u001b[39;49m\u001b[43munsqueeze\u001b[49m\u001b[43m(\u001b[49m\u001b[38;5;241;43m-\u001b[39;49m\u001b[38;5;241;43m1\u001b[39;49m\u001b[43m)\u001b[49m\u001b[43m,\u001b[49m\u001b[43m \u001b[49m\u001b[43mlikelihood\u001b[49m\u001b[43m)\u001b[49m\n\u001b[0;32m     15\u001b[0m \u001b[38;5;66;03m# Model training (for completeness)\u001b[39;00m\n\u001b[0;32m     16\u001b[0m mll \u001b[38;5;241m=\u001b[39m ExactMarginalLogLikelihood(model\u001b[38;5;241m.\u001b[39mlikelihood, model)\n",
      "File \u001b[1;32mc:\\Users\\felip\\anaconda3\\envs\\bo-cuda\\Lib\\site-packages\\botorch\\models\\gp_regression.py:161\u001b[0m, in \u001b[0;36mSingleTaskGP.__init__\u001b[1;34m(self, train_X, train_Y, train_Yvar, likelihood, covar_module, mean_module, outcome_transform, input_transform)\u001b[0m\n\u001b[0;32m    159\u001b[0m \u001b[38;5;28;01mif\u001b[39;00m outcome_transform \u001b[38;5;129;01mis\u001b[39;00m \u001b[38;5;129;01mnot\u001b[39;00m \u001b[38;5;28;01mNone\u001b[39;00m:\n\u001b[0;32m    160\u001b[0m     train_Y, train_Yvar \u001b[38;5;241m=\u001b[39m outcome_transform(train_Y, train_Yvar)\n\u001b[1;32m--> 161\u001b[0m \u001b[38;5;28;43mself\u001b[39;49m\u001b[38;5;241;43m.\u001b[39;49m\u001b[43m_validate_tensor_args\u001b[49m\u001b[43m(\u001b[49m\u001b[43mX\u001b[49m\u001b[38;5;241;43m=\u001b[39;49m\u001b[43mtransformed_X\u001b[49m\u001b[43m,\u001b[49m\u001b[43m \u001b[49m\u001b[43mY\u001b[49m\u001b[38;5;241;43m=\u001b[39;49m\u001b[43mtrain_Y\u001b[49m\u001b[43m,\u001b[49m\u001b[43m \u001b[49m\u001b[43mYvar\u001b[49m\u001b[38;5;241;43m=\u001b[39;49m\u001b[43mtrain_Yvar\u001b[49m\u001b[43m)\u001b[49m\n\u001b[0;32m    162\u001b[0m ignore_X_dims \u001b[38;5;241m=\u001b[39m \u001b[38;5;28mgetattr\u001b[39m(\u001b[38;5;28mself\u001b[39m, \u001b[38;5;124m\"\u001b[39m\u001b[38;5;124m_ignore_X_dims_scaling_check\u001b[39m\u001b[38;5;124m\"\u001b[39m, \u001b[38;5;28;01mNone\u001b[39;00m)\n\u001b[0;32m    163\u001b[0m validate_input_scaling(\n\u001b[0;32m    164\u001b[0m     train_X\u001b[38;5;241m=\u001b[39mtransformed_X,\n\u001b[0;32m    165\u001b[0m     train_Y\u001b[38;5;241m=\u001b[39mtrain_Y,\n\u001b[0;32m    166\u001b[0m     train_Yvar\u001b[38;5;241m=\u001b[39mtrain_Yvar,\n\u001b[0;32m    167\u001b[0m     ignore_X_dims\u001b[38;5;241m=\u001b[39mignore_X_dims,\n\u001b[0;32m    168\u001b[0m )\n",
      "File \u001b[1;32mc:\\Users\\felip\\anaconda3\\envs\\bo-cuda\\Lib\\site-packages\\botorch\\models\\gpytorch.py:107\u001b[0m, in \u001b[0;36mGPyTorchModel._validate_tensor_args\u001b[1;34m(X, Y, Yvar, strict)\u001b[0m\n\u001b[0;32m     99\u001b[0m         warnings\u001b[38;5;241m.\u001b[39mwarn(\n\u001b[0;32m    100\u001b[0m             \u001b[38;5;124m\"\u001b[39m\u001b[38;5;124mNon-strict enforcement of botorch tensor conventions. The \u001b[39m\u001b[38;5;124m\"\u001b[39m\n\u001b[0;32m    101\u001b[0m             \u001b[38;5;124m\"\u001b[39m\u001b[38;5;124mfollowing error would have been raised with strict enforcement: \u001b[39m\u001b[38;5;124m\"\u001b[39m\n\u001b[0;32m    102\u001b[0m             \u001b[38;5;124mf\u001b[39m\u001b[38;5;124m\"\u001b[39m\u001b[38;5;132;01m{\u001b[39;00mmessage\u001b[38;5;132;01m}\u001b[39;00m\u001b[38;5;124m\"\u001b[39m,\n\u001b[0;32m    103\u001b[0m             BotorchTensorDimensionWarning,\n\u001b[0;32m    104\u001b[0m         )\n\u001b[0;32m    105\u001b[0m \u001b[38;5;66;03m# Yvar may not have the same batch dimensions, but the trailing dimensions\u001b[39;00m\n\u001b[0;32m    106\u001b[0m \u001b[38;5;66;03m# of Yvar should be the same as the trailing dimensions of Y.\u001b[39;00m\n\u001b[1;32m--> 107\u001b[0m \u001b[38;5;28;01mif\u001b[39;00m Yvar \u001b[38;5;129;01mis\u001b[39;00m \u001b[38;5;129;01mnot\u001b[39;00m \u001b[38;5;28;01mNone\u001b[39;00m \u001b[38;5;129;01mand\u001b[39;00m Y\u001b[38;5;241m.\u001b[39mshape[\u001b[38;5;241m-\u001b[39m(\u001b[43mYvar\u001b[49m\u001b[38;5;241;43m.\u001b[39;49m\u001b[43mdim\u001b[49m()) :] \u001b[38;5;241m!=\u001b[39m Yvar\u001b[38;5;241m.\u001b[39mshape:\n\u001b[0;32m    108\u001b[0m     \u001b[38;5;28;01mraise\u001b[39;00m BotorchTensorDimensionError(\n\u001b[0;32m    109\u001b[0m         \u001b[38;5;124m\"\u001b[39m\u001b[38;5;124mAn explicit output dimension is required for observation noise.\u001b[39m\u001b[38;5;124m\"\u001b[39m\n\u001b[0;32m    110\u001b[0m         \u001b[38;5;124mf\u001b[39m\u001b[38;5;124m\"\u001b[39m\u001b[38;5;124m Expected Yvar with shape: \u001b[39m\u001b[38;5;132;01m{\u001b[39;00mY\u001b[38;5;241m.\u001b[39mshape[\u001b[38;5;241m-\u001b[39mYvar\u001b[38;5;241m.\u001b[39mdim()\u001b[38;5;250m \u001b[39m:]\u001b[38;5;132;01m}\u001b[39;00m\u001b[38;5;124m (got\u001b[39m\u001b[38;5;124m\"\u001b[39m\n\u001b[0;32m    111\u001b[0m         \u001b[38;5;124mf\u001b[39m\u001b[38;5;124m\"\u001b[39m\u001b[38;5;124m \u001b[39m\u001b[38;5;132;01m{\u001b[39;00mYvar\u001b[38;5;241m.\u001b[39mshape\u001b[38;5;132;01m}\u001b[39;00m\u001b[38;5;124m).\u001b[39m\u001b[38;5;124m\"\u001b[39m\n\u001b[0;32m    112\u001b[0m     )\n\u001b[0;32m    113\u001b[0m \u001b[38;5;66;03m# Check the dtypes.\u001b[39;00m\n",
      "File \u001b[1;32mc:\\Users\\felip\\anaconda3\\envs\\bo-cuda\\Lib\\site-packages\\torch\\nn\\modules\\module.py:1695\u001b[0m, in \u001b[0;36mModule.__getattr__\u001b[1;34m(self, name)\u001b[0m\n\u001b[0;32m   1693\u001b[0m     \u001b[38;5;28;01mif\u001b[39;00m name \u001b[38;5;129;01min\u001b[39;00m modules:\n\u001b[0;32m   1694\u001b[0m         \u001b[38;5;28;01mreturn\u001b[39;00m modules[name]\n\u001b[1;32m-> 1695\u001b[0m \u001b[38;5;28;01mraise\u001b[39;00m \u001b[38;5;167;01mAttributeError\u001b[39;00m(\u001b[38;5;124mf\u001b[39m\u001b[38;5;124m\"\u001b[39m\u001b[38;5;124m'\u001b[39m\u001b[38;5;132;01m{\u001b[39;00m\u001b[38;5;28mtype\u001b[39m(\u001b[38;5;28mself\u001b[39m)\u001b[38;5;241m.\u001b[39m\u001b[38;5;18m__name__\u001b[39m\u001b[38;5;132;01m}\u001b[39;00m\u001b[38;5;124m'\u001b[39m\u001b[38;5;124m object has no attribute \u001b[39m\u001b[38;5;124m'\u001b[39m\u001b[38;5;132;01m{\u001b[39;00mname\u001b[38;5;132;01m}\u001b[39;00m\u001b[38;5;124m'\u001b[39m\u001b[38;5;124m\"\u001b[39m)\n",
      "\u001b[1;31mAttributeError\u001b[0m: 'GaussianLikelihood' object has no attribute 'dim'"
     ]
    }
   ],
   "source": [
    "import torch\n",
    "from botorch.models import SingleTaskGP\n",
    "from botorch.sampling.pathwise.posterior_samplers import draw_matheron_paths\n",
    "from gpytorch.mlls import ExactMarginalLogLikelihood\n",
    "from gpytorch.likelihoods import GaussianLikelihood\n",
    "\n",
    "# Example data\n",
    "train_x = torch.rand(10, 1)  # Feature vector of 10 points\n",
    "train_y = torch.sin(train_x).squeeze()  # Target vector\n",
    "\n",
    "# Define GP model\n",
    "likelihood = GaussianLikelihood()\n",
    "model = SingleTaskGP(train_x, train_y.unsqueeze(-1), likelihood)\n",
    "\n",
    "# Model training (for completeness)\n",
    "mll = ExactMarginalLogLikelihood(model.likelihood, model)\n",
    "# Here you would optimize the MLL using your choice of optimizer...\n",
    "\n",
    "# Prepare for sampling\n",
    "model.eval()  # Put the model in evaluation mode\n",
    "\n",
    "# Sampling parameters\n",
    "sample_shape = torch.Size([10])  # For example, draw 10 samples\n",
    "\n",
    "# Draw samples\n",
    "samples = draw_matheron_paths(model=model, sample_shape=sample_shape, X=train_x)\n"
   ]
  },
  {
   "cell_type": "code",
   "execution_count": null,
   "metadata": {},
   "outputs": [],
   "source": [
    "import matplotlib.pyplot as plt\n",
    "import numpy as np\n",
    "\n",
    "# Assuming `samples` is the output from draw_matheron_paths\n",
    "# And `train_x`, `train_y` are your training data\n",
    "\n",
    "# Generate test points for prediction (for visualization)\n",
    "test_x = torch.linspace(0, 1, 100)  # Adjust the range and density as needed\n",
    "\n",
    "# Get model's prediction (mean and variance) at test points\n",
    "model.eval()  # Make sure the model is in evaluation mode\n",
    "with torch.no_grad(), gpytorch.settings.fast_pred_var():\n",
    "    observed_pred = model(test_x.unsqueeze(-1))\n",
    "\n",
    "# Extract mean and variance\n",
    "mean = observed_pred.mean.numpy()\n",
    "stddev = observed_pred.stddev.numpy()\n",
    "\n",
    "# Plotting\n",
    "plt.figure(figsize=(10, 6))\n",
    "\n",
    "# Plot mean and confidence interval\n",
    "plt.plot(test_x, mean, 'k', lw=2, label='Mean prediction')\n",
    "plt.fill_between(test_x, mean - 1.96*stddev, mean + 1.96*stddev, alpha=0.5, label='95% confidence interval')\n",
    "\n",
    "# Plot samples\n",
    "for i in range(samples.shape[0]):  # Assuming the first dimension of samples is the number of samples\n",
    "    plt.plot(train_x.numpy(), samples[i].numpy(), 'r-', lw=1, alpha=0.3)\n",
    "\n",
    "# Scatter plot of training data\n",
    "plt.scatter(train_x, train_y, c='b', s=50, zorder=3, label='Training data')\n",
    "\n",
    "plt.legend()\n",
    "plt.title('GP Samples with Mean Prediction and Confidence Interval')\n",
    "plt.xlabel('Input')\n",
    "plt.ylabel('Output')\n",
    "plt.show()\n"
   ]
  }
 ],
 "metadata": {
  "kernelspec": {
   "display_name": "bo-cuda",
   "language": "python",
   "name": "python3"
  },
  "language_info": {
   "codemirror_mode": {
    "name": "ipython",
    "version": 3
   },
   "file_extension": ".py",
   "mimetype": "text/x-python",
   "name": "python",
   "nbconvert_exporter": "python",
   "pygments_lexer": "ipython3",
   "version": "3.11.5"
  }
 },
 "nbformat": 4,
 "nbformat_minor": 2
}
